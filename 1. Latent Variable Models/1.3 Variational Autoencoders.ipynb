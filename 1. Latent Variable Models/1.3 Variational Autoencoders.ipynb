{
 "cells": [
  {
   "cell_type": "markdown",
   "id": "65fb783d",
   "metadata": {},
   "source": [
    "# Variational Autoencoders (VAE)\n",
    "\n",
    "\n",
    "- Kingma, D. & Welling, M. (2013). Auto-Encoding Variational Bayes ([arxiv](https://arxiv.org/abs/1312.6114))  \n",
    "- Tomczak, J.M. (2022). Deep Generative Modeling, Section 5.3 ([springer](https://link.springer.com/book/10.1007/978-3-030-93158-2))\n"
   ]
  },
  {
   "cell_type": "markdown",
   "id": "d08b9ae0",
   "metadata": {},
   "source": [
    "## Theory\n",
    "\n",
    "Consider an image, $x$. We say that $x$ has been generated from some latent variable $z$ via some non-linear function parameterised by $\\theta$, written as $p_\\theta(x|z)$. For each possible latent $z$, the function $p_\\theta(x|z)$ specifies the distribution over all images that could be generated. If we could learn those parameters, i.e. $\\theta$, then for any chosen latent variable $z$, we could generate new images from sampling from this distribution. \n",
    "\n",
    "However, we don't know how $z$ is distributed, nor do we know the parameters. To begin, we can assume that $z$ is drawn from a standard Gaussian distribution, $z\\sim\\mathcal{N}(0,I)$ - we do this because it gives us a mathematically convenient space to sample from. Then, to learn the parameters, we can take a dataset of real images and find parameters $\\theta$ such that when we draw the latent variable $z\\sim\\mathcal{N}(0,I)$ then generate images through $p_\\theta(x|z)$, the resulting samples resemble the data we actually observe. To do this, we would like to **maximise the likelihood** of seeing the real data given our model. For a single image, this likelihood, $p_\\theta(x)$, is given by:\n",
    "$$p_\\theta(x)=\\int p_\\theta(x|z)\\cdot p(z) dz$$\n",
    "In plain English, this says that to explain an image $x$, we must consider **all possible latent variables $z$** that could have generated it, weighed by how likely each individual $z$ is under the prior distribution (i.e., the unit Gaussian). "
   ]
  },
  {
   "cell_type": "markdown",
   "id": "ad2f6bd2",
   "metadata": {},
   "source": [
    "### Monte Carlo Approximation\n",
    "In Factor Analysis, where the mapping is linear ($x=\\mu+Wz+\\epsilon$), this integral can be solved analytically: both the prior over $z$ and the conditional distribution $x|z$ are Gaussian, and linear transformation of a Gaussian is still Gaussian. However, in the VAE, $p_\\theta(x|z)$ depends on a complicated non-linear function of $z$. This means that $x|z$ is no longer Gaussian, and the integral over all possible $z$ has no closed form solution. As a result, computing $p_\\theta(x)$ directly is intractable. What can we do instead?\n",
    "\n",
    "In principle, we could approximate the likelihood by sampling $z$, evaluating the likelihood of seeing $x$ given $z$ under the current parameters ($p_\\theta(x|z)$), and then averaging across many values of $z$ (Monte Carlo technique): $$p_\\theta(x)=\\frac{1}{N}\\sum_{n=1}^N p_\\theta(x|z^{(n)}), \\quad z^{(n)}\\sim\\mathcal{N}(0,I)$$ \n",
    "However, most samples $z$ drawn from $\\mathcal{N}(0,I)$ will be poor at explaining a particular image $x$ - only a tiny fraction of samples will actually be viable for generating $x$, leading to high variance as many $p_\\theta(x|z)$ will be nearly zero. As the dimensionality of $z$ grows, this makes it even less likely that randomly drawn $z$ values will explain the particular image, and so variance explodes with dimensionality. In practice, we'd need to compute this approximation separately for every single datapoint in the dataset at every single training step - so this approach isn't viable. "
   ]
  },
  {
   "cell_type": "markdown",
   "id": "04b3269a",
   "metadata": {},
   "source": [
    "### Variational Inference\n",
    "\n",
    "What if we could instead sample viable values of $z$ *given* $x$, and then use only those in our approximation? Instead of sampling $z$ blindly from the prior, $\\mathcal{N}(0,I)$, we'd instead sample from the *posterior* $p_\\theta(z|x)$, which is already concentrated in the viable regions of latent space for that datapoint. This would make our Monte Carlo approximation much more efficient, since we'd only be using values of $z$ that actually explain $x$. How do we get the posterior? Let's take a look at Bayes' rule:\n",
    "$$p_\\theta(z|x)=\\frac{p_\\theta(x|z)\\cdot p(z)}{p_\\theta(x)}$$\n",
    "We can evaluate $p_\\theta(x|z)$, and we also know $p(z)$ because $z\\sim\\mathcal{N}(0,I)$ - but we've just seen that the denominator, $p_\\theta(x)$, is intractable.\n",
    "\n",
    "Instead, we can take an approach called **variational inference**. This means picking a family of simple, tractable distributions (e.g., Gaussians) and introducing a distribution $q_\\phi(z|x)$ that *approximates* the true posterior $p_\\theta(z|x)$ by adjusting its parameters $\\phi$:\n",
    "$$q_\\phi(z|x)\\approx p_\\theta(z|x)$$\n",
    "We already have $x$ (our data), but we need to learn the parameters $\\phi$. We want $q_\\phi(z|x)$ to be as *close* as possible to the true posterior - this gives us a concrete objective. We can measure 'closeness' (statistical distance) between two continuous probability distributions over the same variable using the **Kullback-Leibler (KL) divergence**:\n",
    "$$D_{KL}(p||q)\\doteq\\int p(x)\\log\\frac{p(x)}{q(x)}$$\n",
    "In other words, we want to minimise:\n",
    "$$KL\\left(q_\\phi(z|x)||p_\\theta(z|x)\\right)$$\n",
    "However - $p_\\theta(z|x)=\\frac{p_\\theta(x|z)\\cdot p(z)}{p_\\theta(x)}$, and $p(x)$ is intractable. We need another approach.\n",
    "\n"
   ]
  },
  {
   "cell_type": "markdown",
   "id": "4b523ed4",
   "metadata": {},
   "source": [
    "### Deriving ELBO\n",
    "Let's substitute in our distributions to the equation for $D_{KL}$ above:\n",
    "$$\n",
    "KL\\left(q_\\phi(z|x)||p_\\theta(z|x)\\right) = \\int q_\\phi(z|x) \\cdot \\log \\frac{q_\\phi(z|x)}{p_\\theta(z|x)}$$\n",
    "\n",
    "Rewritten in expectation notation: \n",
    "$$\n",
    "KL\\left(q_\\phi(z|x)||p_\\theta(z|x)\\right) = \\mathbb{E}_{q_\\phi}\\left[\\log\\frac{q_\\phi(z|x)}{p_\\theta(z|x)}\\right]\n",
    "$$\n",
    "\n",
    "Using log identities:\n",
    "$$KL\\left(q_\\phi(z|x)||p_\\theta(z|x)\\right) = \\mathbb{E}_{q_\\phi}\\left[\\log q_\\phi(z|x) - \\log p_\\theta(z|x)\\right]$$\n",
    "\n",
    "Using Bayes' rule to rewrite $\\log p_\\theta(z|x)=\\log p_\\theta(x|z)+\\log p(z) - \\log p_\\theta(x)$ and substituting in:\n",
    "$$KL\\left(q_\\phi(z|x)||p_\\theta(z|x)\\right) = \\mathbb{E}_{q_\\phi}\\left[\\log q_\\phi(z|x) - \\log p_\\theta(x|z) - \\log p(z) + \\log p_\\theta(x) \\right]$$\n",
    "\n",
    "We can then remove $p_\\theta(x)$ from the expectation because it is constant w.r.t $z$ (i.e., changing $z$ doesn't change $x$):\n",
    "$$KL\\left(q_\\phi(z|x)||p_\\theta(z|x)\\right) = \\mathbb{E}_{q_\\phi}\\left[\\log q_\\phi(z|x) - \\log p_\\theta(x|z) - \\log p(z)\\right] + \\log p_\\theta(x)$$\n",
    "\n",
    "And then solving for $\\log p_\\theta(x)$ by subtracting the expectation term from both sides:\n",
    "$$\\log p_\\theta(x) = KL\\left(q_\\phi(z|x)||p_\\theta(z|x)\\right) - \\mathbb{E}_{q_\\phi}\\left[\\log q_\\phi(z|x) - \\log p_\\theta(x|z) - \\log p(z)\\right] $$\n",
    "\n",
    "Recalling that expectation is linear (i.e., $\\mathbb{E}[A-B-C]=\\mathbb{E}[A]-\\mathbb{E}[B]-\\mathbb{E}[C]$), we can rewrite:\n",
    "$$\\log p_\\theta(x) = KL\\left(q_\\phi(z|x)||p_\\theta(z|x)\\right) - \\mathbb{E}_{q_\\phi}[\\log q_\\phi(z|x)] + \\mathbb{E}_{q_\\phi}[\\log p_\\theta(x|z)] + \\mathbb{E}_{q_\\phi}[\\log p(z)]$$\n",
    "\n",
    "And that the KL divergence between two distributions of the same variable is $KL(q||p)=\\mathbb{E}_q[\\log q - \\log p]$ - we can group $-\\mathbb{E}_{q_\\phi}[\\log q_\\phi(z|x)]$ and $\\mathbb{E}_{q_\\phi}[\\log p(z)]$ as: $$KL\\left(q_\\phi(z|x)||p(z)\\right)$$\n",
    "To yield:\n",
    "$$\\log p_\\theta(x) = KL\\left(q_\\phi(z|x)||p_\\theta(z|x)\\right) + \\mathbb{E}_{q_\\phi}[\\log p_\\theta(x|z)] - KL\\left(q_\\phi(z|x)||p(z)\\right)$$\n",
    "\n",
    "Now we have $\\log p_\\theta(x)$ as a function of three meaningful quantities: \n",
    "- the divergence between the approximate posterior and the true posterior, $KL\\left(q_\\phi(z|x)||p_\\theta(z|x)\\right)$;\n",
    "- the divergence between the approximate posterior and the prior, $KL\\left(q_\\phi(z|x)||p(z)\\right)$;\n",
    "- and the expected log-likelihood of the data given the latents, $\\mathbb{E}_{q_\\phi}[\\log p_\\theta(x|z)]$, which measures how well samples of $z$ explain the observed $x$. \n",
    "\n",
    "Take special note of the term $KL\\left(q_\\phi(z|x)||p_\\theta(z|x)\\right)$: though it's intractable, we do know that this quantity is **always $\\geq 0$** - it's zero if $q_\\phi(z|x)=p_\\theta(z|x)$, and greater otherwise. \n",
    "\n",
    "This means that the other two terms **must always be less than or equal to $\\log p_\\theta(x)$**:\n",
    "- If $q_\\phi(z|x)=p_\\theta(z|x)$, then $$\\log p_\\theta(x)=\\mathbb{E}_{q_\\phi}[\\log p_\\theta(x|z)] - KL\\left(q_\\phi(z|x)||p(z)\\right)$$ \n",
    "- If $q_\\phi(z|x)\\neq p_\\theta(z|x)$, then $$\\log p_\\theta(x)>\\mathbb{E}_{q_\\phi}[\\log p_\\theta(x|z)] - KL\\left(q_\\phi(z|x)||p(z)\\right)$$\n",
    "\n",
    "These two terms are referred to as the **Evidence Lower Bound (ELBO)**, simply because they put a lower bound on the log-likelihood. This means that even though we **can't evaluate** the posterior KL, we **can evaluate** these two terms and use them as a proxy objective: by maximising the ELBO, we also push up the log-likelihood. \n",
    "$$\\text{ELBO}\\doteq\n",
    "\\underbrace{\\mathbb{E}_{z\\sim q_\\phi(z|x)}[\\log p_\\theta(x|z)]}_{\\text{reconstruction term}}\n",
    "- \n",
    "\\underbrace{KL\\left(q_\\phi(z|x)||p(z)\\right)}_{\\text{regulariser}}**\n",
    "$$\n",
    "\n",
    "The two terms perform two distinct roles:\n",
    "- **Reconstruction term**: encourages the model to reconstruct the input well by maximising the log-likelihood of the data given the latent.\n",
    "- **Regulariser**: forces the model to keep its latents close to the prior distribution - this means that we can sample from the prior $p(z)$ to generate new images.\n"
   ]
  },
  {
   "cell_type": "markdown",
   "id": "75ad699e",
   "metadata": {},
   "source": [
    "### Learning\n",
    "\n",
    "This leaves us three terms to evaluate:\n",
    "- **$q_\\phi(z|x)$**: The approximate posterior. We select a tractable distribution then fit the parameters $\\phi$. \n",
    "- **$p(z)$**: The prior over latents. We pick a simple distribution like $p(z)=\\mathcal{N}(0,I)$.\n",
    "- **$\\mathbb{E}_{z\\sim q_\\phi(z|x)}[\\log p_\\theta(x|z)]$**: The expected log-likelihood of reconstructing $x$ given latents drawn from $q_\\phi(z|x)$. We approximate this expectation via the Monte Carlo approach outlined earlier - sample $z\\sim q_\\phi(z|x)$, compute $\\log p_\\theta(x|z)$, then average over samples.\n",
    "\n",
    "This leaves us a very tractable function that we can optimise. We want to maximise the objective function $\\mathcal{L}$ (equivalently minimise $-\\mathcal{L}$):\n",
    "$$\n",
    "\\mathcal{L} = \\text{ELBO} = \\mathbb{E}_{z\\sim q_\\phi(z|x)}[\\log p_\\theta(x|z)]-KL\\left(q_\\phi(z|x)||p(z)\\right)\n",
    "$$\n",
    "We just need to fit the parameters, $\\theta$ and $\\phi$, using gradient descent. Let's consider how we would do that.\n",
    "\n",
    "#### $\\theta$\n",
    "$\\theta$ appears only in $\\log p_\\theta(x|z)$. For a sample $z\\sim q_\\phi(z|x)$, the gradient of $\\mathcal{L}$ is given by:\n",
    "$$\\nabla_\\theta \\mathcal{L}=\\mathbb{E}_{z\\sim q_\\phi(z|x)}[\\log p_\\theta(x|z)]$$\n",
    "\n",
    "For a Gaussian distribution, $\\log p_\\theta(x|z)=\\mathcal{N}(x;\\mu_\\theta(z), \\text{diag}(\\sigma^2_\\theta(z)))$, which, equivalently, is:\n",
    "$$\\log p_\\theta(x|z)=-\\frac{1}{2}\\sum_i\\left[\\log(2\\pi\\sigma^2_i)+\\frac{(x_i-\\mu_i)^2}{\\sigma_i^2}\\right]$$\n",
    "through which we can trivially backpropagate through $\\mu_\\theta(z)$ and $\\sigma_\\theta(z)$ to calculate their gradients w.r.t $\\mathcal{L}$.\n",
    "\n",
    "#### $\\phi$\n",
    "$\\phi$ appears twice:\n",
    "1. Inside the KL to the prior, $KL\\left(q_\\phi(z|x)||p(z)\\right)$. For a Gaussian $q_\\phi=\\mathcal{N}(\\mu_\\phi, \\text{diag}(\\sigma_\\phi^2))$ and $p(z)=\\mathcal{N}(0,I)$, this KL yields the closed form: $$KL=\\frac{1}{2}\\sum_{j=1}^d (\\mu_j^2 + \\sigma_j^2 - \\log \\sigma_j^2 - 1)$$\n",
    "And so we can obtain the gradient of $\\phi$ w.r.t. $KL$, $\\nabla_\\phi KL$, by backpropagating through $\\mu_\\phi(x)$ and $\\sigma_\\phi(x)$.\n",
    "  \n",
    "2. Inside the expectation, $\\mathbb{E}_{z\\sim q_\\phi(z|x)}[\\log p_\\theta(x|z)]$, because $z\\sim q_\\phi(z|x)$, so we want to find the gradient of $\\phi$ w.r.t. the expectation: $$\\nabla_\\phi\\int q_\\phi(z|x)\\cdot \\log p_\\theta(x|z)dz$$\n",
    "However - observe that $z$ is sampled from $q_\\phi(z|x)$ which itself depends on $\\phi$. Gradients cannot flow through this step, because the act of sampling breaks the computational graph. This means that while we *can* calculate the gradients of operations downstream of (after) a sampling process (as we did with $\\theta$), we *cannot* calculate the gradient of anything upstream (before), with respect to the parameters of the distribution that generated the sample. We'll need to consider an alternative approach."
   ]
  },
  {
   "cell_type": "markdown",
   "id": "1c23bc9d",
   "metadata": {},
   "source": [
    "### Reparameterisation Trick\n",
    "We have observed how the reconstruction term's gradient w.r.t. $\\phi$ is blocked by the sampling step. The problem arises from:\n",
    "$$z\\sim q_\\phi(z|x)$$\n",
    "What if we could instead separate the randomness from the parameters $\\phi$? Instead of sampling $z$ directly from $q_\\phi(z|x)$, where $q$ is a chosen family of tractable distributions, we can instead use the learned parameters to describe a deterministic, linear transformation of a noise drawn from a separate distribution of the same family.\n",
    "\n",
    "For example, if we assume that the posterior is Gaussian:\n",
    "$$q_\\phi(z|x)=\\mathcal{N}(z;\\mu_\\phi(x), \\text{diag }\\sigma_\\phi^2(x))$$\n",
    "Then we know that $z$ will be normally distributed, centered at $\\mu_\\phi(x)$, and have variance $\\sigma_\\phi^2(x)$. \n",
    "\n",
    "Instead of sampling from that Gaussian, which blocks the flow of gradients w.r.t. $\\phi$, we can describe an equivalent distribution via a linear transformation of noise drawn from a unit Gaussian:\n",
    "$$z=\\mu_\\phi(x)+\\sigma_\\phi(x)\\odot \\epsilon, \\quad \\epsilon\\sim\\mathcal{N}(0,I)$$\n",
    "\n",
    "Now the randomness is isolated in $\\epsilon$, and the mapping from $\\phi$ to $z$ is fully differentiable. \n",
    "\n",
    "We can rewrite the expectation $\\mathbb{E}_{z\\sim q_\\phi(z|x)}[\\log p_\\theta(x|z)]$ as $$\\mathbb{E}_{\\epsilon\\sim\\mathcal{N}(0,I)}\\left[\\log p_\\theta(x|\\mu_\\phi(x)+\\sigma_\\phi(x)\\odot\\epsilon)\\right]$$\n",
    "\n",
    "and take the gradient of the expectation w.r.t. $\\phi$ as \n",
    "$$\n",
    "\\nabla_\\phi \\mathbb{E}_{\\epsilon\\sim\\mathcal{N}(0,I)}\\left[\\log p_\\theta(x|z)\\right]\n",
    "= \\mathbb{E}_\\epsilon\\left[\\nabla_z \\log p_\\theta(x|z) \\cdot \\nabla_\\phi z \\right]\n",
    "$$\n",
    "where $\\nabla_\\phi z = \\nabla_\\phi \\mu_\\phi(x) + (\\epsilon \\odot \\nabla_\\phi \\sigma_\\phi(x))$.\n",
    "\n",
    "We can approximate this expectation with Monte Carlo estimation using samples of $\\epsilon$. For $K$ samples, this is given by:\n",
    "$$\\frac{1}{K}\\sum_{k=1}^K\\log p_\\theta(x|\\mu_\\phi(x)+\\sigma_\\phi(x)\\odot\\epsilon^{(k)}), \\quad \\epsilon^{(k)}\\sim\\mathcal{N}(0,I)$$\n",
    "As $K\\rightarrow\\infty$, this converges to the true expectation. However, using $K=1$ (i.e., one sample per datapoint) is usually sufficient. The gradient obtained from the reparameterisation trick has low variance, and so a single draw of $\\epsilon$ is typically a good estimate of the true gradient. Furthermore, when we use minibatches during training, we're averaging over many datapoints anyway, and so across the batch, noisy estimates tend to average out. \n",
    "\n"
   ]
  },
  {
   "cell_type": "markdown",
   "id": "48a8da9f",
   "metadata": {},
   "source": [
    "### Objective Function\n",
    "\n",
    "Thus, our final per-datapoint objective function is given as $$\\mathcal{L}(\\theta, \\phi; x) = \\mathbb{E}_{\\epsilon\\sim\\mathcal{N}(0,I)}\\left[\\log p_\\theta(x|\\mu_\\phi(x)+\\sigma_\\phi(x)\\odot\\epsilon)\\right]-KL\\left(q_\\phi(z|x)||p(z)\\right)$$\n",
    "\n",
    "Over a batch of datapoints, we either sum or average $\\mathcal{L}$, and then find the parameters $\\theta,\\phi$ that maximise it: $$\\max_{\\theta, \\phi}\\frac{1}{B}\\sum_{i=1}^B\\mathcal{L}(\\theta, \\phi; x_i)$$ \n",
    "\n",
    "With the theoretical underpinnings out of the way, we can now consider how we implement the VAE in practice. "
   ]
  },
  {
   "cell_type": "markdown",
   "id": "95f65504",
   "metadata": {},
   "source": [
    "## Implementation\n",
    "We have seen how VAEs progress in two steps: we first want to understand how the data can be represented in a latent space - $q_\\phi(z|x)$; and then how we use this latent space to map back to the data space - $p_\\theta(x|z)$. \n",
    "\n",
    "We use two different networks, trained jointly end-to-end, to learn these parameters:\n",
    "- **Encoder ($\\phi$)**: take $x$ as input and output the parameters of an approximate posterior, $q_\\phi(z|x)$. This defines a distribution over latent variables given the data - i.e., how to compress data into a latent representation.\n",
    "- **Decoder ($\\theta$)**: take $z$ as input and output the parameters of the likelihood $p_\\theta(x|z)$. This defines a distribution over data given the latent variables - i.e., how to map from latent space back to realistic data. "
   ]
  },
  {
   "cell_type": "code",
   "execution_count": 266,
   "id": "ce66849e",
   "metadata": {},
   "outputs": [],
   "source": [
    "import torch\n",
    "import torch.nn as nn\n",
    "import matplotlib.pyplot as plt"
   ]
  },
  {
   "cell_type": "markdown",
   "id": "086d152c",
   "metadata": {},
   "source": [
    "### Encoder\n",
    "$$q_\\phi(z|x)$$\n",
    "- **Input:** $x$\n",
    "- **Output:** mean vector $\\mu_\\phi(x)$; variance vector $\\sigma^2_\\phi(x)$\n",
    "\n",
    "In practice, we use log-variance ($\\log \\sigma^2$) instead of variance ($\\sigma^2$):\n",
    "$$\\sigma^2 = \\exp(\\log\\sigma^2)$$\n",
    "To get $\\sigma$:\n",
    "$$\\begin{align}\n",
    "\\sigma &= (\\sigma^2)^{\\frac{1}{2}}\\\\\n",
    "& = (\\exp(\\log \\sigma^2))^{\\frac{1}{2}}\\\\\n",
    " &= \\exp(\\frac{1}{2}\\log\\sigma^2)\n",
    "\\end{align}\n",
    "$$\n",
    "\n",
    "$$z=\\mu_\\phi(x)+\\sigma_\\phi(x)\\odot \\epsilon, \\quad \\epsilon\\sim\\mathcal{N}(0,I)$$"
   ]
  },
  {
   "cell_type": "code",
   "execution_count": 267,
   "id": "3c78418a",
   "metadata": {},
   "outputs": [],
   "source": [
    "class Encoder(nn.Module):\n",
    "    def __init__(self, input_dim: int, latent_dim: int, hidden_dim: int = 256):\n",
    "        super().__init__()\n",
    "        self.fc_h = nn.Sequential(\n",
    "            nn.Linear(input_dim, hidden_dim),\n",
    "            nn.ReLU(),\n",
    "            nn.Linear(hidden_dim, hidden_dim),\n",
    "            nn.ReLU()\n",
    "        )\n",
    "\n",
    "        self.fc_mean = nn.Linear(hidden_dim, latent_dim)\n",
    "        self.fc_logvar = nn.Linear(hidden_dim, latent_dim)\n",
    "    \n",
    "    def reparameterise(self, mu, logvar):\n",
    "        sigma = torch.exp(0.5 * logvar)\n",
    "        epsilon = torch.randn_like(sigma)\n",
    "\n",
    "        return mu + sigma * epsilon\n",
    "\n",
    "    def forward(self, x):\n",
    "        h = self.fc_h(x)\n",
    "        mu = self.fc_mean(h)\n",
    "        logvar = self.fc_logvar(h)\n",
    "\n",
    "        z = self.reparameterise(mu, logvar)\n",
    "\n",
    "        return z, mu, logvar"
   ]
  },
  {
   "cell_type": "markdown",
   "id": "de0c1e2c",
   "metadata": {},
   "source": [
    "### Decoder\n",
    "$$p_\\theta(x|z)$$"
   ]
  },
  {
   "cell_type": "code",
   "execution_count": 268,
   "id": "03697f97",
   "metadata": {},
   "outputs": [],
   "source": [
    "class Decoder(nn.Module):\n",
    "    def __init__(self, latent_dim: int, output_dim: int, hidden_dim: int = 256):\n",
    "        super().__init__()\n",
    "\n",
    "        self.fc_h = nn.Sequential(\n",
    "            nn.Linear(latent_dim, hidden_dim),\n",
    "            nn.ReLU(),\n",
    "            nn.Linear(hidden_dim, hidden_dim),\n",
    "            nn.ReLU()\n",
    "        )\n",
    "\n",
    "        self.fc_mean = nn.Linear(hidden_dim, output_dim)\n",
    "        self.fc_logvar = nn.Linear(hidden_dim, output_dim)\n",
    "\n",
    "    def forward(self, z):\n",
    "        h = self.fc_h(z)\n",
    "        mu = self.fc_mean(h)\n",
    "        logvar = self.fc_logvar(h)\n",
    "\n",
    "        return mu, logvar"
   ]
  },
  {
   "cell_type": "code",
   "execution_count": 269,
   "id": "1225fb8b",
   "metadata": {},
   "outputs": [],
   "source": [
    "class VAE(nn.Module):\n",
    "    def __init__(self, input_dim: int, latent_dim: int, output_dim: int):\n",
    "        super().__init__()\n",
    "\n",
    "        self.encoder = Encoder(input_dim, latent_dim)\n",
    "        self.decoder = Decoder(latent_dim, output_dim)\n",
    "\n",
    "    def forward(self, x):\n",
    "        z, mu_phi, logvar_phi = self.encoder(x)\n",
    "        mu_theta, logvar_theta = self.decoder(z)\n",
    "\n",
    "        return mu_phi, logvar_phi, mu_theta, logvar_theta"
   ]
  },
  {
   "cell_type": "markdown",
   "id": "f5af59da",
   "metadata": {},
   "source": [
    "### Reconstruction Loss\n",
    "$$\\frac{1}{K}\\sum_{k=1}^K\\log p_\\theta(x|\\mu_\\phi(x)+\\sigma_\\phi(x)\\odot\\epsilon^{(k)}), \\quad \\epsilon^{(k)}\\sim\\mathcal{N}(0,I)$$\n",
    "\n",
    "$\\log\\mathcal{N}(\\mu, \\sigma^2)$\n",
    "\n",
    "The probability density function is given by:\n",
    "$$p(x|\\mu, \\sigma^2)=\\frac{1}{\\sqrt{2\\pi\\sigma^2}}\\exp\\left(-\\frac{(x-\\mu)^2}{2\\sigma^2}\\right)$$\n",
    "\n",
    "Taking the log form:\n",
    "$$\\log p(x|\\mu,\\sigma^2)=-\\frac{1}{2}\\left[\\log(2\\pi)+\\log\\sigma^2+\\frac{(x-\\mu)^2}{\\sigma^2}\\right]$$\n",
    "\n",
    "Plugging into the reconstruction term:\n",
    "$$\\mathbb{E}_{\\epsilon\\sim\\mathcal{N}(0,I)}[\\log p(x|z)]=\\mathbb{E}_\\epsilon\\left[-\\frac{1}{2}\\sum_i\\left(\\log(2\\pi)+\\log\\sigma^2+\\frac{(x-\\mu)^2}{\\sigma^2}\\right)\\right]$$"
   ]
  },
  {
   "cell_type": "code",
   "execution_count": null,
   "id": "42209025",
   "metadata": {},
   "outputs": [],
   "source": [
    "def recon_term(x, mu_theta, logvar_theta):\n",
    "    log_likelihood = -0.5 * (torch.log(torch.tensor(2 * torch.pi)) + logvar_theta + (x - mu_theta)**2 / torch.exp(logvar_theta))\n",
    "\n",
    "    return log_likelihood.sum()"
   ]
  },
  {
   "cell_type": "markdown",
   "id": "fcd2769f",
   "metadata": {},
   "source": [
    "### KL Divergence\n",
    "$$KL=\\frac{1}{2}\\sum_{j=1}^d (\\mu_j^2 + \\sigma_j^2 - \\log \\sigma_j^2 - 1)$$"
   ]
  },
  {
   "cell_type": "code",
   "execution_count": null,
   "id": "8db611ea",
   "metadata": {},
   "outputs": [],
   "source": [
    "def kl_term(mu_phi, logvar_phi):\n",
    "    kl = 0.5 * mu_phi**2 + torch.exp(logvar_phi) - logvar_phi - 1\n",
    "\n",
    "    return kl.sum()"
   ]
  },
  {
   "cell_type": "code",
   "execution_count": 272,
   "id": "da939fbf",
   "metadata": {},
   "outputs": [
    {
     "data": {
      "text/plain": [
       "<matplotlib.collections.PathCollection at 0x77d29ac85be0>"
      ]
     },
     "execution_count": 272,
     "metadata": {},
     "output_type": "execute_result"
    },
    {
     "data": {
      "image/png": "[encoded data removed]",
      "text/plain": [
       "<Figure size 600x400 with 1 Axes>"
      ]
     },
     "metadata": {},
     "output_type": "display_data"
    }
   ],
   "source": [
    "n_samples = 10000\n",
    "\n",
    "x = torch.empty(n_samples).uniform_(-10, 10)\n",
    "noise = torch.randn(n_samples) * 5.0\n",
    "y = x**2 + noise\n",
    "\n",
    "X = torch.stack([x,y], dim=1)\n",
    "X = (X - X.mean(0)) / X.std(0).clamp_min(1e-6)\n",
    "\n",
    "plt.figure(figsize=(6,4))\n",
    "plt.scatter(X[:,0], X[:,1], s=1, c=\"red\")"
   ]
  },
  {
   "cell_type": "code",
   "execution_count": 273,
   "id": "d5c383be",
   "metadata": {},
   "outputs": [],
   "source": [
    "from torch.utils.data import DataLoader, TensorDataset\n",
    "\n",
    "dataset = TensorDataset(X)\n",
    "batch_size = 16\n",
    "\n",
    "loader = DataLoader(dataset, batch_size=batch_size, shuffle=True)"
   ]
  },
  {
   "cell_type": "code",
   "execution_count": 274,
   "id": "0112c419",
   "metadata": {},
   "outputs": [],
   "source": [
    "vae = VAE(\n",
    "    input_dim=2,\n",
    "    latent_dim=16,\n",
    "    output_dim=2\n",
    ")\n",
    "\n",
    "optimiser = torch.optim.Adam(vae.parameters(), lr=1e-3)\n"
   ]
  },
  {
   "cell_type": "code",
   "execution_count": 275,
   "id": "12dcb540",
   "metadata": {},
   "outputs": [],
   "source": [
    "def train(model, optimiser, dataloader, n_epochs):\n",
    "    model.train()\n",
    "\n",
    "    count = 0\n",
    "    for epoch in range(n_epochs):\n",
    "\n",
    "        epoch_loss_total = 0\n",
    "        epoch_recon = 0\n",
    "        epoch_kl = 0\n",
    "\n",
    "        for (batch,) in dataloader:\n",
    "            optimiser.zero_grad()\n",
    "\n",
    "            mu_phi, logvar_phi, mu_theta, logvar_theta = model(batch)\n",
    "            \n",
    "            recon = recon_term(batch, mu_theta, logvar_theta)\n",
    "            kl = kl_term(mu_phi, logvar_phi)\n",
    "\n",
    "            loss = -(recon-kl)\n",
    "            loss.backward()\n",
    "            optimiser.step()\n",
    "\n",
    "            epoch_loss_total += loss.item()\n",
    "            epoch_recon += recon.item()\n",
    "            epoch_kl += kl.item()\n",
    "\n",
    "        count += 1 \n",
    "        \n",
    "        print(\n",
    "            f\"Epoch {count}/{n_epochs} || Loss: {epoch_loss_total / count:.4f} \"\n",
    "            f\"|| Recon: {epoch_recon / count:.4f} || KL: {epoch_kl / count:.4f}\"\n",
    "        )\n",
    "        "
   ]
  },
  {
   "cell_type": "code",
   "execution_count": 276,
   "id": "1752200c",
   "metadata": {},
   "outputs": [],
   "source": [
    "@torch.no_grad()\n",
    "def sample(model, n_samples: int = 1000):\n",
    "    model.eval()\n",
    "    latent_dim = model.encoder.fc_mean.out_features\n",
    "\n",
    "    z = torch.randn(n_samples, latent_dim)\n",
    "    mu_theta, logvar_theta = model.decoder(z)\n",
    "\n",
    "    sigma = torch.exp(0.5 * logvar_theta)\n",
    "    epsilon = torch.randn_like(mu_theta)\n",
    "\n",
    "    x = mu_theta + sigma * epsilon\n",
    "\n",
    "    return x"
   ]
  },
  {
   "cell_type": "code",
   "execution_count": 279,
   "id": "dcfa29c9",
   "metadata": {},
   "outputs": [
    {
     "name": "stdout",
     "output_type": "stream",
     "text": [
      "Epoch 1/100 || Loss: -1077.4132 || Recon: 1695.7213 || KL: 618.3081\n",
      "Epoch 2/100 || Loss: -537.3544 || Recon: 844.6523 || KL: 307.2979\n",
      "Epoch 3/100 || Loss: -358.5592 || Recon: 563.7766 || KL: 205.2174\n",
      "Epoch 4/100 || Loss: -268.5478 || Recon: 422.8481 || KL: 154.3003\n",
      "Epoch 5/100 || Loss: -209.9451 || Recon: 332.2126 || KL: 122.2674\n",
      "Epoch 6/100 || Loss: -178.3171 || Recon: 280.7475 || KL: 102.4304\n",
      "Epoch 7/100 || Loss: -154.0873 || Recon: 242.2641 || KL: 88.1768\n",
      "Epoch 8/100 || Loss: -137.6567 || Recon: 215.6572 || KL: 78.0005\n",
      "Epoch 9/100 || Loss: -120.4441 || Recon: 189.6697 || KL: 69.2257\n",
      "Epoch 10/100 || Loss: -108.5486 || Recon: 170.8116 || KL: 62.2629\n",
      "Epoch 11/100 || Loss: -100.1829 || Recon: 156.9774 || KL: 56.7945\n",
      "Epoch 12/100 || Loss: -91.4549 || Recon: 143.5449 || KL: 52.0900\n",
      "Epoch 13/100 || Loss: -82.9431 || Recon: 130.6686 || KL: 47.7255\n",
      "Epoch 14/100 || Loss: -78.0133 || Recon: 122.2071 || KL: 44.1938\n",
      "Epoch 15/100 || Loss: -73.5136 || Recon: 115.0650 || KL: 41.5514\n",
      "Epoch 16/100 || Loss: -70.6349 || Recon: 109.9754 || KL: 39.3404\n",
      "Epoch 17/100 || Loss: -66.0781 || Recon: 103.2985 || KL: 37.2204\n",
      "Epoch 18/100 || Loss: -62.7887 || Recon: 97.7888 || KL: 35.0001\n",
      "Epoch 19/100 || Loss: -58.6450 || Recon: 91.7946 || KL: 33.1496\n",
      "Epoch 20/100 || Loss: -57.3759 || Recon: 89.3000 || KL: 31.9241\n",
      "Epoch 21/100 || Loss: -54.4342 || Recon: 84.7950 || KL: 30.3609\n",
      "Epoch 22/100 || Loss: -52.1321 || Recon: 81.1445 || KL: 29.0123\n",
      "Epoch 23/100 || Loss: -49.2822 || Recon: 76.9458 || KL: 27.6635\n",
      "Epoch 24/100 || Loss: -47.5013 || Recon: 73.9952 || KL: 26.4939\n",
      "Epoch 25/100 || Loss: -45.1169 || Recon: 70.1994 || KL: 25.0825\n",
      "Epoch 26/100 || Loss: -44.8204 || Recon: 69.6589 || KL: 24.8385\n",
      "Epoch 27/100 || Loss: -42.9560 || Recon: 66.9322 || KL: 23.9763\n",
      "Epoch 28/100 || Loss: -40.6627 || Recon: 63.5411 || KL: 22.8784\n",
      "Epoch 29/100 || Loss: -39.5822 || Recon: 61.6054 || KL: 22.0231\n",
      "Epoch 30/100 || Loss: -38.2152 || Recon: 59.3863 || KL: 21.1711\n",
      "Epoch 31/100 || Loss: -37.8420 || Recon: 58.7726 || KL: 20.9305\n",
      "Epoch 32/100 || Loss: -37.0319 || Recon: 57.3847 || KL: 20.3527\n",
      "Epoch 33/100 || Loss: -35.3015 || Recon: 54.9711 || KL: 19.6695\n",
      "Epoch 34/100 || Loss: -34.5336 || Recon: 53.6969 || KL: 19.1633\n",
      "Epoch 35/100 || Loss: -33.0087 || Recon: 51.3220 || KL: 18.3133\n",
      "Epoch 36/100 || Loss: -31.8795 || Recon: 49.6855 || KL: 17.8060\n",
      "Epoch 37/100 || Loss: -32.1282 || Recon: 49.7487 || KL: 17.6205\n",
      "Epoch 38/100 || Loss: -30.9694 || Recon: 48.0660 || KL: 17.0966\n",
      "Epoch 39/100 || Loss: -30.3884 || Recon: 47.1434 || KL: 16.7549\n",
      "Epoch 40/100 || Loss: -29.6531 || Recon: 45.9243 || KL: 16.2711\n",
      "Epoch 41/100 || Loss: -28.7950 || Recon: 44.5968 || KL: 15.8018\n",
      "Epoch 42/100 || Loss: -27.6169 || Recon: 42.9792 || KL: 15.3624\n",
      "Epoch 43/100 || Loss: -26.9151 || Recon: 41.7813 || KL: 14.8661\n",
      "Epoch 44/100 || Loss: -26.6906 || Recon: 41.3613 || KL: 14.6707\n",
      "Epoch 45/100 || Loss: -26.0297 || Recon: 40.3895 || KL: 14.3598\n",
      "Epoch 46/100 || Loss: -25.2270 || Recon: 39.1519 || KL: 13.9248\n",
      "Epoch 47/100 || Loss: -25.2526 || Recon: 39.1486 || KL: 13.8960\n",
      "Epoch 48/100 || Loss: -24.3804 || Recon: 37.8017 || KL: 13.4213\n",
      "Epoch 49/100 || Loss: -24.3882 || Recon: 37.6745 || KL: 13.2864\n",
      "Epoch 50/100 || Loss: -23.9714 || Recon: 37.0975 || KL: 13.1261\n",
      "Epoch 51/100 || Loss: -23.6343 || Recon: 36.5136 || KL: 12.8793\n",
      "Epoch 52/100 || Loss: -22.6652 || Recon: 35.1220 || KL: 12.4568\n",
      "Epoch 53/100 || Loss: -22.3457 || Recon: 34.5268 || KL: 12.1811\n",
      "Epoch 54/100 || Loss: -22.2351 || Recon: 34.3604 || KL: 12.1253\n",
      "Epoch 55/100 || Loss: -22.0300 || Recon: 33.9976 || KL: 11.9676\n",
      "Epoch 56/100 || Loss: -21.5761 || Recon: 33.2641 || KL: 11.6880\n",
      "Epoch 57/100 || Loss: -21.2277 || Recon: 32.7644 || KL: 11.5367\n",
      "Epoch 58/100 || Loss: -20.5854 || Recon: 31.8337 || KL: 11.2483\n",
      "Epoch 59/100 || Loss: -20.7928 || Recon: 32.0777 || KL: 11.2850\n",
      "Epoch 60/100 || Loss: -20.1264 || Recon: 31.1371 || KL: 11.0108\n",
      "Epoch 61/100 || Loss: -19.8919 || Recon: 30.6409 || KL: 10.7490\n",
      "Epoch 62/100 || Loss: -19.4655 || Recon: 30.0924 || KL: 10.6269\n",
      "Epoch 63/100 || Loss: -19.4663 || Recon: 29.9744 || KL: 10.5081\n",
      "Epoch 64/100 || Loss: -18.8210 || Recon: 29.0860 || KL: 10.2650\n",
      "Epoch 65/100 || Loss: -18.5783 || Recon: 28.6804 || KL: 10.1021\n",
      "Epoch 66/100 || Loss: -18.5363 || Recon: 28.5477 || KL: 10.0114\n",
      "Epoch 67/100 || Loss: -18.1972 || Recon: 28.0400 || KL: 9.8429\n",
      "Epoch 68/100 || Loss: -17.9315 || Recon: 27.6088 || KL: 9.6773\n",
      "Epoch 69/100 || Loss: -17.7859 || Recon: 27.4198 || KL: 9.6339\n",
      "Epoch 70/100 || Loss: -17.5782 || Recon: 27.0643 || KL: 9.4861\n",
      "Epoch 71/100 || Loss: -17.1057 || Recon: 26.4833 || KL: 9.3776\n",
      "Epoch 72/100 || Loss: -17.4620 || Recon: 26.7775 || KL: 9.3155\n",
      "Epoch 73/100 || Loss: -16.9973 || Recon: 26.1427 || KL: 9.1453\n",
      "Epoch 74/100 || Loss: -16.5670 || Recon: 25.5449 || KL: 8.9779\n",
      "Epoch 75/100 || Loss: -15.9025 || Recon: 24.6680 || KL: 8.7655\n",
      "Epoch 76/100 || Loss: -16.1424 || Recon: 24.7961 || KL: 8.6538\n",
      "Epoch 77/100 || Loss: -15.9068 || Recon: 24.5301 || KL: 8.6233\n",
      "Epoch 78/100 || Loss: -15.8876 || Recon: 24.4675 || KL: 8.5798\n",
      "Epoch 79/100 || Loss: -15.5747 || Recon: 23.9974 || KL: 8.4228\n",
      "Epoch 80/100 || Loss: -14.6655 || Recon: 22.7575 || KL: 8.0920\n",
      "Epoch 81/100 || Loss: -14.9278 || Recon: 23.0040 || KL: 8.0762\n",
      "Epoch 82/100 || Loss: -15.1602 || Recon: 23.2973 || KL: 8.1371\n",
      "Epoch 83/100 || Loss: -14.5479 || Recon: 22.4966 || KL: 7.9487\n",
      "Epoch 84/100 || Loss: -14.9527 || Recon: 22.9529 || KL: 8.0002\n",
      "Epoch 85/100 || Loss: -14.6467 || Recon: 22.4857 || KL: 7.8390\n",
      "Epoch 86/100 || Loss: -14.6519 || Recon: 22.4543 || KL: 7.8024\n",
      "Epoch 87/100 || Loss: -14.2856 || Recon: 21.9842 || KL: 7.6985\n",
      "Epoch 88/100 || Loss: -14.2053 || Recon: 21.7946 || KL: 7.5893\n",
      "Epoch 89/100 || Loss: -14.1071 || Recon: 21.6420 || KL: 7.5349\n",
      "Epoch 90/100 || Loss: -13.6790 || Recon: 21.1556 || KL: 7.4766\n",
      "Epoch 91/100 || Loss: -13.8346 || Recon: 21.2081 || KL: 7.3735\n",
      "Epoch 92/100 || Loss: -13.6393 || Recon: 21.0112 || KL: 7.3719\n",
      "Epoch 93/100 || Loss: -13.6552 || Recon: 20.9409 || KL: 7.2858\n",
      "Epoch 94/100 || Loss: -13.4411 || Recon: 20.6308 || KL: 7.1897\n",
      "Epoch 95/100 || Loss: -13.4219 || Recon: 20.5814 || KL: 7.1594\n",
      "Epoch 96/100 || Loss: -12.9141 || Recon: 19.9159 || KL: 7.0018\n",
      "Epoch 97/100 || Loss: -13.1733 || Recon: 20.1775 || KL: 7.0042\n",
      "Epoch 98/100 || Loss: -12.8545 || Recon: 19.7399 || KL: 6.8854\n",
      "Epoch 99/100 || Loss: -12.8598 || Recon: 19.7233 || KL: 6.8634\n",
      "Epoch 100/100 || Loss: -12.6880 || Recon: 19.4890 || KL: 6.8010\n"
     ]
    }
   ],
   "source": [
    "train(\n",
    "    model=vae,\n",
    "    optimiser=optimiser,\n",
    "    dataloader=loader,\n",
    "    n_epochs=100\n",
    ")"
   ]
  },
  {
   "cell_type": "code",
   "execution_count": 278,
   "id": "97fefff0",
   "metadata": {},
   "outputs": [
    {
     "data": {
      "text/plain": [
       "<matplotlib.collections.PathCollection at 0x77d29a4fcef0>"
      ]
     },
     "execution_count": 278,
     "metadata": {},
     "output_type": "execute_result"
    },
    {
     "data": {
      "image/png": "[encoded data removed]",
      "text/plain": [
       "<Figure size 640x480 with 1 Axes>"
      ]
     },
     "metadata": {},
     "output_type": "display_data"
    }
   ],
   "source": [
    "samples = sample(vae, n_samples=10000)\n",
    "\n",
    "plt.scatter(samples[:,0], samples[:,1], s=1)\n"
   ]
  }
 ],
 "metadata": {
  "kernelspec": {
   "display_name": "genai",
   "language": "python",
   "name": "python3"
  },
  "language_info": {
   "codemirror_mode": {
    "name": "ipython",
    "version": 3
   },
   "file_extension": ".py",
   "mimetype": "text/x-python",
   "name": "python",
   "nbconvert_exporter": "python",
   "pygments_lexer": "ipython3",
   "version": "3.12.3"
  }
 },
 "nbformat": 4,
 "nbformat_minor": 5
}
