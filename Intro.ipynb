{
 "cells": [
  {
   "cell_type": "markdown",
   "id": "d36c0138",
   "metadata": {},
   "source": [
    "# Introduction to Generative Modelling"
   ]
  },
  {
   "cell_type": "code",
   "execution_count": null,
   "id": "cda72a88",
   "metadata": {},
   "outputs": [],
   "source": [
    "import sklearn.datasets as ds\n",
    "import matplotlib.pyplot as plt"
   ]
  },
  {
   "cell_type": "code",
   "execution_count": null,
   "id": "b7327e0f",
   "metadata": {},
   "outputs": [],
   "source": [
    "X, y = ds.make_moons(n_samples=500, noise=0.01)\n",
    "\n",
    "plt.scatter(X[:, 0], X[:,1])\n",
    "plt.show()"
   ]
  }
 ],
 "metadata": {
  "language_info": {
   "name": "python"
  }
 },
 "nbformat": 4,
 "nbformat_minor": 5
}
